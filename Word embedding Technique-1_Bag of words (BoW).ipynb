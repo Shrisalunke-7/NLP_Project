{
 "cells": [
  {
   "cell_type": "markdown",
   "id": "9189dd4e-c403-4ba1-be2c-178930e39c1d",
   "metadata": {},
   "source": [
    "## General Word Embeddings\n",
    "\n",
    "**1. Bag of Words (BoW) and TF-IDF**\n",
    "\n",
    "**2. Latent Semantic Analysis (LSA)**\n",
    "\n",
    "**3. Word2Vec developed by Google**\n",
    "\n",
    "**4. GloVe developed by Standford University**\n",
    "\n",
    "**5. FastText developed by FaceBook**\n",
    "\n",
    "**6. Contextual Embeddings**\n",
    "\n",
    "- ELMo : ELMo (Embeddings from Language Models): Developed by Allen Institute for AI\n",
    "\n",
    "- BERT (Bidirectional Encoder Representations from Transformers): Developed by HuggingFace now takeover by Google\n",
    "\n",
    "- GPT (Generative Pre-trained Transformer): Developed by OpenAI\n",
    "\n",
    "**7. Current Trending Models**\n",
    "\n",
    "- GPT-2,GPT-3 and GPT series by OpenAI\n",
    "\n",
    "- BERT Variants: Models like RoBERTa, ALBERT, and DistilBERT have improved upon BERT\n",
    "\n",
    "- T5 (Text-To-Text Transfer Transformer): Developed by Google, T5 treats all NLP tasks as text-to-text problems, unifying multiple tasks under a single framework.\n",
    "\n",
    "- CLIP (Contrastive Language-Image Pretraining): Developed by OpenAI, CLIP learns representations that align images and text, enabling models to perform tasks like zero-shot image classification.\n",
    "    \n",
    "- Mistral AI: GenAI model\n",
    "\n",
    "- Google Gemini AI : GenAI model\n",
    "\n",
    "- Amazon Bedrock : GenAI model\n",
    "                                                                                    \n",
    "                                                                                 "
   ]
  },
  {
   "cell_type": "markdown",
   "id": "e2f849e1",
   "metadata": {},
   "source": [
    "1. A Quick Example\n",
    "\n",
    "- Let’s look at an easy example to understand the concepts previously explained. We could be interested in analyzing the reviews about Game of Thrones:\n",
    "\n",
    "- **Review 1:** Game of Thrones is an amazing tv series!\n",
    "\n",
    "- **Review 2:** Game of Thrones is the best tv series!\n",
    "\n",
    "- **Review 3:** Game of Thrones is so great\n",
    "\n",
    "In the table, I show all the calculations to obtain the Bag-Of-Words approach:"
   ]
  },
  {
   "cell_type": "markdown",
   "id": "fd2e613a",
   "metadata": {},
   "source": [
    "**Vocabulary**\n",
    "\n",
    "- Vocabulary means a kind of dictionary\n",
    "\n",
    "- Every data has its own vocabulary \n",
    "\n",
    "- Here also we have vocabulary for above 3 sentences"
   ]
  },
  {
   "cell_type": "markdown",
   "id": "42f7b777",
   "metadata": {},
   "source": [
    "<img decoding=\"async\" loading=\"lazy\" class=\"alignnone\" src=\"https://cdn-images-1.medium.com/max/1000/1*cHKkqYIhaYuYwuuhBiSlHw.png\" alt=\"Bag-of-Words with Python&nbsp; example\" width=\"815\" height=\"190\" data-image-id=\"1*cHKkqYIhaYuYwuuhBiSlHw.png\" data-width=\"815\" data-height=\"190\">"
   ]
  },
  {
   "cell_type": "markdown",
   "id": "54c922ac",
   "metadata": {},
   "source": [
    "Each row corresponds to a different review, while the rows are the unique words, contained in the three documents."
   ]
  },
  {
   "cell_type": "markdown",
   "id": "5a08587d",
   "metadata": {},
   "source": [
    "**Sentence-1**\n",
    "\n",
    "- sky is nice\n",
    "\n",
    "**Sentence-2**\n",
    "\n",
    "- clouds are nice\n",
    "\n",
    "**Sentence-3**\n",
    "\n",
    "- Sky is nice and Clouds are nice\n"
   ]
  },
  {
   "cell_type": "code",
   "execution_count": 1,
   "id": "c907c0e7",
   "metadata": {},
   "outputs": [
    {
     "name": "stdout",
     "output_type": "stream",
     "text": [
      "['sky nice', 'clouds nice', 'sky nice clouds nice']\n"
     ]
    }
   ],
   "source": [
    "from nltk.corpus import stopwords\n",
    "sentences = ['sky is nice', 'clouds are nice', 'Sky is nice and Clouds are nice']\n",
    "\n",
    "cleaned_sentence = []\n",
    "\n",
    "for sentence in sentences:\n",
    "    word = sentence.lower()  \n",
    "    ##lowering all the letters becaz we dont want it to treat uppercase and lower case words differently\n",
    "    \n",
    "    word = word.split()    ##splitting our sentence into words \n",
    "    \n",
    "    ##removing stop words\n",
    "    word = [i for i in word if i not in set(stopwords.words('english'))]          \n",
    "    word = \" \".join(word)               ##joining our words back to sentences\n",
    "    cleaned_sentence.append(word)       ##appending our preprocessed sentence into a new list\n",
    "    \n",
    "    \n",
    "## printing our new list\n",
    "print(cleaned_sentence) "
   ]
  },
  {
   "cell_type": "markdown",
   "id": "bcbecfdd",
   "metadata": {},
   "source": [
    "after data preprocess and apply Stop words\n",
    "\n",
    "**Sentence-1**\n",
    "\n",
    "- sky nice\n",
    "\n",
    "**Sentence-2**\n",
    "\n",
    "- clouds nice\n",
    "\n",
    "**Sentence-3**\n",
    "\n",
    "- Sky nice Clouds nice\n",
    "\n",
    "**Vocabulary**\n",
    "\n",
    "   - clouds, nice,sky\n",
    "   \n",
    "\n",
    "|vocabulary|Frequency|\n",
    "|----------------|-----|\n",
    "|clouds|2|\n",
    "|nice|4|\n",
    "|sky|2|\n",
    "\n",
    "\n",
    "and number of voacbulry becomes number of features\n",
    "\n",
    "\n",
    "|sentence|feature1(clouds)|featur2(nice)|feature3(sky)|\n",
    "|--------|-----|---|----|\n",
    "|sky nice|0|1|1|\n",
    "|clouds nice|1|1|0|\n",
    "|Sky nice Clouds nice|1|2|1|"
   ]
  },
  {
   "cell_type": "code",
   "execution_count": 2,
   "id": "53c54de9",
   "metadata": {},
   "outputs": [
    {
     "data": {
      "text/plain": [
       "array([[0, 1, 1],\n",
       "       [1, 1, 0],\n",
       "       [1, 2, 1]], dtype=int64)"
      ]
     },
     "execution_count": 2,
     "metadata": {},
     "output_type": "execute_result"
    }
   ],
   "source": [
    "from sklearn.feature_extraction.text import CountVectorizer\n",
    "\n",
    "cv = CountVectorizer(max_features = 3)  ##give it a max features as 3\n",
    "Bagofwords = cv.fit_transform(cleaned_sentence)\n",
    "\n",
    "Bagofwords.toarray()"
   ]
  },
  {
   "cell_type": "code",
   "execution_count": 3,
   "id": "12e7ef4f",
   "metadata": {},
   "outputs": [],
   "source": [
    "# from sklearn.feature_extraction.text import CountVectorizer\n",
    "\n",
    "# cv = CountVectorizer(max_features = 3)  ##give it a max features as 3\n",
    "# Bagofwords = cv.fit_transform(cleaned_sentence)\n",
    "# print(Bagofwords.toarray())"
   ]
  },
  {
   "cell_type": "code",
   "execution_count": 4,
   "id": "e7825e72",
   "metadata": {},
   "outputs": [
    {
     "data": {
      "text/html": [
       "<div>\n",
       "<style scoped>\n",
       "    .dataframe tbody tr th:only-of-type {\n",
       "        vertical-align: middle;\n",
       "    }\n",
       "\n",
       "    .dataframe tbody tr th {\n",
       "        vertical-align: top;\n",
       "    }\n",
       "\n",
       "    .dataframe thead th {\n",
       "        text-align: right;\n",
       "    }\n",
       "</style>\n",
       "<table border=\"1\" class=\"dataframe\">\n",
       "  <thead>\n",
       "    <tr style=\"text-align: right;\">\n",
       "      <th></th>\n",
       "      <th>cloud</th>\n",
       "      <th>nice</th>\n",
       "      <th>sky</th>\n",
       "    </tr>\n",
       "  </thead>\n",
       "  <tbody>\n",
       "    <tr>\n",
       "      <th>0</th>\n",
       "      <td>0</td>\n",
       "      <td>1</td>\n",
       "      <td>1</td>\n",
       "    </tr>\n",
       "    <tr>\n",
       "      <th>1</th>\n",
       "      <td>1</td>\n",
       "      <td>1</td>\n",
       "      <td>0</td>\n",
       "    </tr>\n",
       "    <tr>\n",
       "      <th>2</th>\n",
       "      <td>1</td>\n",
       "      <td>2</td>\n",
       "      <td>1</td>\n",
       "    </tr>\n",
       "  </tbody>\n",
       "</table>\n",
       "</div>"
      ],
      "text/plain": [
       "   cloud  nice  sky\n",
       "0      0     1    1\n",
       "1      1     1    0\n",
       "2      1     2    1"
      ]
     },
     "execution_count": 4,
     "metadata": {},
     "output_type": "execute_result"
    }
   ],
   "source": [
    "import pandas as pd\n",
    "pd.DataFrame(Bagofwords.toarray(),columns=['cloud','nice','sky'])"
   ]
  },
  {
   "cell_type": "code",
   "execution_count": 5,
   "id": "742f1204",
   "metadata": {},
   "outputs": [
    {
     "data": {
      "text/plain": [
       "{'sky': 2, 'nice': 1, 'clouds': 0}"
      ]
     },
     "execution_count": 5,
     "metadata": {},
     "output_type": "execute_result"
    }
   ],
   "source": [
    "cv.vocabulary_\n",
    "# unique words with index\n",
    "# cloud is first word : first feature\n",
    "# nice is scond word: second feature\n",
    "# skt is third word: Third feature"
   ]
  },
  {
   "cell_type": "code",
   "execution_count": 6,
   "id": "5267614e",
   "metadata": {},
   "outputs": [
    {
     "ename": "AttributeError",
     "evalue": "'csr_matrix' object has no attribute 'view'",
     "output_type": "error",
     "traceback": [
      "\u001b[1;31m---------------------------------------------------------------------------\u001b[0m",
      "\u001b[1;31mAttributeError\u001b[0m                            Traceback (most recent call last)",
      "Cell \u001b[1;32mIn[6], line 1\u001b[0m\n\u001b[1;32m----> 1\u001b[0m Bagofwords\u001b[38;5;241m.\u001b[39mview()\n",
      "\u001b[1;31mAttributeError\u001b[0m: 'csr_matrix' object has no attribute 'view'"
     ]
    }
   ],
   "source": [
    "Bagofwords.view()"
   ]
  },
  {
   "cell_type": "code",
   "execution_count": null,
   "id": "6441645d",
   "metadata": {},
   "outputs": [],
   "source": [
    "### All together\n",
    "from nltk.corpus import stopwords\n",
    "from sklearn.feature_extraction.text import CountVectorizer\n",
    "\n",
    "sentences = ['Game of Thrones is an amazing tv series!', \n",
    "             'Game of Thrones is the best tv series!', \n",
    "             'Game of Thrones is so great']\n",
    "\n",
    "cleaned_sentence = []\n",
    "\n",
    "for sentence in sentences:\n",
    "    word = sentence.lower()  \n",
    "    ##lowering all the letters becaz we dont want it to treat uppercase and lower case words differently\n",
    "    \n",
    "    word = word.split()    ##splitting our sentence into words \n",
    "    \n",
    "    ##removing stop words\n",
    "    word = [i for i in word if i not in set(stopwords.words('english'))]          \n",
    "    word = \" \".join(word)               ##joining our words back to sentences\n",
    "    cleaned_sentence.append(word)       ##appending our preprocessed sentence into a new list\n",
    "    \n",
    "    \n",
    "## printing our new list\n",
    "print(cleaned_sentence) \n",
    "\n",
    "cv = CountVectorizer()  ##give it a max features as 3\n",
    "Bagofwords = cv.fit_transform(cleaned_sentence).toarray()\n",
    "print(cv.vocabulary_)\n",
    "print(Bagofwords)"
   ]
  },
  {
   "cell_type": "code",
   "execution_count": null,
   "id": "5cbfb72c",
   "metadata": {},
   "outputs": [],
   "source": [
    "cv.vocabulary_\n",
    "# Index mapping"
   ]
  },
  {
   "cell_type": "code",
   "execution_count": null,
   "id": "883924f8",
   "metadata": {},
   "outputs": [],
   "source": [
    "### All together\n",
    "from nltk.corpus import stopwords\n",
    "from sklearn.feature_extraction.text import CountVectorizer\n",
    "\n",
    "sentences = ['sky is nice', 'clouds are nice', 'Sky is nice and Clouds are nice']\n",
    "\n",
    "cleaned_sentence = []\n",
    "\n",
    "for sentence in sentences:\n",
    "    word = sentence.lower()  \n",
    "    ##lowering all the letters becaz we dont want it to treat uppercase and lower case words differently\n",
    "    \n",
    "    word = word.split()    ##splitting our sentence into words \n",
    "    \n",
    "    ##removing stop words\n",
    "    word = [i for i in word if i not in set(stopwords.words('english'))]          \n",
    "    word = \" \".join(word)               ##joining our words back to sentences\n",
    "    cleaned_sentence.append(word)       ##appending our preprocessed sentence into a new list\n",
    "    \n",
    "    \n",
    "## printing our new list\n",
    "print(cleaned_sentence) \n",
    "\n",
    "cv = CountVectorizer(ngram_range=(1,2))  ##give it a max features as 3\n",
    "Bagofwords = cv.fit_transform(cleaned_sentence).toarray()\n",
    "\n",
    "print(cv.vocabulary_)\n",
    "print(Bagofwords)\n",
    "\n",
    "# Task for you is:  Identify the output logic"
   ]
  },
  {
   "cell_type": "code",
   "execution_count": null,
   "id": "502083ec",
   "metadata": {},
   "outputs": [],
   "source": [
    "sorted(list(cv.vocabulary_.keys()))"
   ]
  },
  {
   "cell_type": "code",
   "execution_count": null,
   "id": "fc885f46",
   "metadata": {},
   "outputs": [],
   "source": [
    "cv.vocabulary_\n",
    "\n",
    "# Vector formation happens based on vocabulary \n"
   ]
  },
  {
   "cell_type": "code",
   "execution_count": null,
   "id": "63506560",
   "metadata": {},
   "outputs": [],
   "source": [
    "################################ With logic##################################\n",
    "sen=' '.join(cleaned_sentence)\n",
    "l=list(set(sen.split()))\n",
    "print(\"vocabulary:\",l)\n",
    "d={}\n",
    "l1=[]\n",
    "for sentence in cleaned_sentence:\n",
    "    for i in l:\n",
    "        if i in sentence:\n",
    "            d[i]=1\n",
    "        else:\n",
    "            d[i]=0\n",
    "    myKeys = list(d.keys())\n",
    "    myKeys.sort()\n",
    "    sorted_dict = {i: d[i] for i in myKeys}\n",
    "    l1.append(sorted_dict)\n",
    "\n",
    "print(l1)\n",
    "l2=[i.values() for i in l1]\n",
    "l2"
   ]
  },
  {
   "cell_type": "markdown",
   "id": "93de849c",
   "metadata": {},
   "source": [
    "Some disadvantages of BOWS:\n",
    "> It won’t provide any semantic information about the words. It only gives how many times has word occurred in a sentence and not its location or correlation with other words in the sentence.\n",
    "\n",
    ">It gives equal importance to all the words in the sentence. Hence it is most useful for simple processes.\n",
    "\n",
    ">There are other methods like Tfidf, word2Vec which are more complex and useful than BOWs."
   ]
  },
  {
   "cell_type": "markdown",
   "id": "a230577f",
   "metadata": {},
   "source": [
    "- BOW\n",
    "\n",
    "- tf-idf\n",
    "\n",
    "- word2vec\n",
    "\n",
    "- Glove"
   ]
  },
  {
   "cell_type": "code",
   "execution_count": null,
   "id": "7d83d3b0",
   "metadata": {},
   "outputs": [],
   "source": [
    "# Creating word histogram\n",
    "import nltk\n",
    "word2count = {}\n",
    "for data in sentences:\n",
    "    words = nltk.word_tokenize(data) # we are split into words\n",
    "    for word in words:               # we are calling each word\n",
    "        if word not in word2count.keys(): # if the word not in dictionary, we are \n",
    "            word2count[word] = 1\n",
    "        else:\n",
    "            word2count[word] += 1\n",
    "print(word2count)"
   ]
  },
  {
   "cell_type": "code",
   "execution_count": null,
   "id": "3ccc99f9",
   "metadata": {},
   "outputs": [],
   "source": []
  }
 ],
 "metadata": {
  "kernelspec": {
   "display_name": "Python 3 (ipykernel)",
   "language": "python",
   "name": "python3"
  },
  "language_info": {
   "codemirror_mode": {
    "name": "ipython",
    "version": 3
   },
   "file_extension": ".py",
   "mimetype": "text/x-python",
   "name": "python",
   "nbconvert_exporter": "python",
   "pygments_lexer": "ipython3",
   "version": "3.11.7"
  }
 },
 "nbformat": 4,
 "nbformat_minor": 5
}
